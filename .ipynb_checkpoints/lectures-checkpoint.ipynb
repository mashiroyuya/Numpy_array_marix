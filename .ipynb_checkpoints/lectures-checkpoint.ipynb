{
 "cells": [
  {
   "cell_type": "markdown",
   "metadata": {},
   "source": [
    "# Python勉強会\n",
    "## 基本動作\n",
    "* Shift-Enterで現在いるブロックをRunさせる\n",
    "* 全ブロック上から順に**Run**させたいときは，上の[Cell]→[Run All]\n",
    "* Markdown方式でコメントが綺麗にかける(下の様にこのブロックは書いてます)"
   ]
  },
  {
   "cell_type": "raw",
   "metadata": {},
   "source": [
    "* Shift-Enterで現在いるブロックをRunさせる\n",
    "* 全ブロック上から順に**Run**させたいときは，上の[Cell]→[Run All]\n",
    "* Markdown方式でコメントが綺麗にかける(下の様にこのブロックは書いてます)"
   ]
  },
  {
   "cell_type": "markdown",
   "metadata": {},
   "source": [
    "* 四則演算は+, -, *, /, \n",
    "* 乗数は^では無くて[*]2つ\n",
    "* 変数の名前の最初に数字がくるのは禁止例えば1sとか…\n",
    "* 数字も文字も同じ様に扱うことができる\n",
    "* 表示はprint()"
   ]
  },
  {
   "cell_type": "code",
   "execution_count": 2,
   "metadata": {
    "collapsed": false
   },
   "outputs": [
    {
     "name": "stdout",
     "output_type": "stream",
     "text": [
      "1162261467\n",
      "Hello world\n",
      "0.3333333333333333\n",
      "Hello world\n",
      "Hello world0.3333333333333333\n",
      "あなたの寿命はあと: 0.3333333333333333 msec.ですよ\n"
     ]
    }
   ],
   "source": [
    "#色々自分でやってみよう\n",
    "print(3**19)\n",
    "print('Hello world')\n",
    "v1 = 1/3\n",
    "print(v1)\n",
    "s1 = 'Hello world'\n",
    "print(s1)\n",
    "print(s1+str(v1))\n",
    "print('あなたの寿命はあと: '+str(v1)+' msec.ですよ')"
   ]
  },
  {
   "cell_type": "markdown",
   "metadata": {},
   "source": [
    "## モジュールのインポート\n",
    "モジュールとは便利な関数パッケージの様なもの(だいぶ適当)．有名なモジュールを下に上げておく．\n",
    "* **numpy**　数学関係，例えばpiやe，行列計算などの関数や命令が入っている．我々には絶対必要！\n",
    "* **scipy**　科学関係，最小二乗法やフーリエ変換，球面調和関数などの関係や命令が入っている．やっはり必要！\n",
    "* **matplotlib**　グラフ関係，論文にそのまま載せれるレベルの図が描ける．もちろんepsやpdf,jpgなどに対応．動画も作成できる\n",
    "* **sympy**　解析解が出せる(numpyやscipyは数値解)．微分積分や因数分解，階乗計算，順列組み合わせなどほぼなんでもできる\n",
    "* **pandas**　データマイニングなどの解析に使える．\n",
    "* **sys**　システム系をいじれる…よく知らない\n",
    "* **os**　OS依存の機能を呼び出せる\n",
    "* **urllib**　サーバーからデータ取ってきたりアタックしたり…\n",
    "* **etc…**\n",
    "\n",
    "とにかく山程モジュールがあって俺もよく知らん"
   ]
  },
  {
   "cell_type": "code",
   "execution_count": 3,
   "metadata": {
    "collapsed": true
   },
   "outputs": [],
   "source": [
    "#importの例\n",
    "import numpy as np\n",
    "import scipy as sp"
   ]
  },
  {
   "cell_type": "markdown",
   "metadata": {},
   "source": [
    "as npやspはアダ名．使うときに毎回numpyとうつのめんどいよね\n",
    "## numpyの使い方\n",
    "よく使うものを下に記します"
   ]
  },
  {
   "cell_type": "code",
   "execution_count": 4,
   "metadata": {
    "collapsed": false
   },
   "outputs": [
    {
     "name": "stdout",
     "output_type": "stream",
     "text": [
      "[[ 1.  2.  3.]\n",
      " [ 4.  5.  6.]\n",
      " [ 7.  7.  7.]]\n",
      "495.0\n",
      "4.95\n",
      "2.88660700477\n"
     ]
    }
   ],
   "source": [
    "#print(np.pi)\n",
    "#print(np.e)\n",
    "#print(np.ones(5))\n",
    "#print(np.ones((7,3)))\n",
    "#print(np.zeros((5,3)))\n",
    "print(np.array([[1.,2.,3.],[4.,5.,6.],[7.,7.,7.]]))\n",
    "#mat1 = np.ones((4,3))\n",
    "#mat1[0,0] = 5\n",
    "#print(mat1)\n",
    "#print(mat1.shape)\n",
    "#print(mat1.shape[0])\n",
    "#print(mat1.dtype)\n",
    "#print(np.linspace(0,10,10)) #最後の数字はデータ総数を指定\n",
    "#print(np.arange(0,10.5,0.5)) #最後の数字はステップ数を指定\n",
    "mat2 = np.linspace(0,10,11)\n",
    "mat3 = np.arange(11,22,1.)\n",
    "mat4 = np.r_[mat2,mat3]\n",
    "mat5 = np.c_[mat2,mat3]\n",
    "#print(mat4)\n",
    "#print(mat5.shape)\n",
    "#print(np.identity(5))\n",
    "#print(np.eye(5,3))\n",
    "#a, b = np.meshgrid([1,2,3], [4,5,6,7])\n",
    "#print(a)\n",
    "#print(b)\n",
    "mat6 = np.arange(0,10,0.1)\n",
    "#print(mat6[1])\n",
    "#print(mat6[-1])\n",
    "#print(mat6[4:10])\n",
    "#print(mat6[:5])\n",
    "#print(mat6[40:])\n",
    "print(np.sum(mat6))\n",
    "print(np.average(mat6))\n",
    "print(np.std(mat6))"
   ]
  },
  {
   "cell_type": "markdown",
   "metadata": {},
   "source": [
    "## if文for文while文"
   ]
  },
  {
   "cell_type": "code",
   "execution_count": 5,
   "metadata": {
    "collapsed": false
   },
   "outputs": [
    {
     "name": "stdout",
     "output_type": "stream",
     "text": [
      "オワタ\n",
      "55\n",
      "0\n",
      "1\n",
      "2\n",
      "3\n",
      "4\n",
      "5\n",
      "6\n",
      "7\n",
      "8\n",
      "9\n"
     ]
    }
   ],
   "source": [
    "s = 0\n",
    "\n",
    "if s==5:\n",
    "    print('a')\n",
    "elif s==2:\n",
    "    print('b')\n",
    "elif s==0:\n",
    "    print('オワタ')\n",
    "else:\n",
    "    print('f')\n",
    "\n",
    "s = 0\n",
    "for i in np.arange(11):\n",
    "    s += i # s = s + 1 の意味\n",
    "    #print(i)\n",
    "print(s)\n",
    "\n",
    "s = 0\n",
    "while s < 10:\n",
    "    print(s)\n",
    "    s += 1"
   ]
  },
  {
   "cell_type": "markdown",
   "metadata": {},
   "source": [
    "## データの読み込み"
   ]
  },
  {
   "cell_type": "code",
   "execution_count": null,
   "metadata": {
    "collapsed": true
   },
   "outputs": [],
   "source": []
  },
  {
   "cell_type": "code",
   "execution_count": null,
   "metadata": {
    "collapsed": true
   },
   "outputs": [],
   "source": []
  }
 ],
 "metadata": {
  "kernelspec": {
   "display_name": "Python 3",
   "language": "python",
   "name": "python3"
  },
  "language_info": {
   "codemirror_mode": {
    "name": "ipython",
    "version": 3
   },
   "file_extension": ".py",
   "mimetype": "text/x-python",
   "name": "python",
   "nbconvert_exporter": "python",
   "pygments_lexer": "ipython3",
   "version": "3.5.1"
  }
 },
 "nbformat": 4,
 "nbformat_minor": 0
}
