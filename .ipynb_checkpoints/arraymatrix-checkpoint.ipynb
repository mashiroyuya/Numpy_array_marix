{
 "cells": [
  {
   "cell_type": "markdown",
   "metadata": {},
   "source": [
    "# numpy array matrixについて\n",
    "参考URL http://www.eidos.ic.i.u-tokyo.ac.jp/~tau/lecture/computational_physics/slide/numpy.pdf"
   ]
  },
  {
   "cell_type": "markdown",
   "metadata": {},
   "source": [
    "## numpy.array(配列)\n",
    "- 配列: データの集まり"
   ]
  },
  {
   "cell_type": "code",
   "execution_count": 24,
   "metadata": {
    "collapsed": false
   },
   "outputs": [
    {
     "name": "stdout",
     "output_type": "stream",
     "text": [
      "[[1 2 3]\n",
      " [4 5 6]]\n",
      "2\n",
      "5\n"
     ]
    }
   ],
   "source": [
    "import numpy\n",
    "a = numpy.array([[1,2,3],[4,5,6]]) #2次元配列を作る(行列みたいな)\n",
    "print(a) \n",
    "print(len(a)) #何次元配列か? 要素はいくつあるか?\n",
    "print(a[1][1]) # 1,1 成分は何か? ちなみに数学とは違って行列の左上は0,0だから注意"
   ]
  },
  {
   "cell_type": "code",
   "execution_count": 22,
   "metadata": {
    "collapsed": false
   },
   "outputs": [
    {
     "name": "stdout",
     "output_type": "stream",
     "text": [
      "[3 6 6 7]\n",
      "[ 0  5  9 12]\n",
      "26\n"
     ]
    }
   ],
   "source": [
    "x = numpy.array([0,1,3,4])\n",
    "y = numpy.array([3,5,3,3])\n",
    "print(x + y) # 各要素の足し算\n",
    "print(x * y) # 各要素の掛け算 内積ではないことに注意\n",
    "print(x.dot(y)) # これが内積"
   ]
  },
  {
   "cell_type": "markdown",
   "metadata": {},
   "source": [
    "## matrix(行列)について"
   ]
  },
  {
   "cell_type": "markdown",
   "metadata": {},
   "source": [
    "### matrix(行列)とarray(配列)の違い\n",
    "arrayは任意の次元のデータの集まりで汎用的なデータ(特別に行列であるとかそういうわけではない)\n",
    "\n",
    "> なので * が内積ではなく各要素の掛け算になっている\n",
    "\n",
    "行列を扱うのであればmatrixが良い"
   ]
  },
  {
   "cell_type": "code",
   "execution_count": 36,
   "metadata": {
    "collapsed": false
   },
   "outputs": [
    {
     "name": "stdout",
     "output_type": "stream",
     "text": [
      "[[21 13]\n",
      " [18 10]]\n"
     ]
    }
   ],
   "source": [
    "A = numpy.matrix([[4,5],[4,2]])\n",
    "B = numpy.matrix([[4,2],[1,1]])\n",
    "print(A*B) #matrixでは * は内積(行列の掛け算)になる"
   ]
  },
  {
   "cell_type": "markdown",
   "metadata": {},
   "source": [
    "そしてarrayに使える関数のほとんどはmatrixも受け付けます。"
   ]
  },
  {
   "cell_type": "markdown",
   "metadata": {},
   "source": [
    "### ベクトルの内積\n",
    "ベクトルの内積も結局行列の内積なので内積を取る組の行数、列数に注意しよう。  \n",
    "c は 1 * 3 行列  \n",
    "d は 1 * 3 行列  \n",
    "これだと (1 * 3) * (1 * 3) という行列の内積になるので計算できない。  \n",
    "そこでdを転置して内積をしましょう。\n",
    "> 行ベクトルと行ベクトルじゃ内積できないから片方を転置して行ベクトル* 列ベクトルにしましょう"
   ]
  },
  {
   "cell_type": "code",
   "execution_count": 37,
   "metadata": {
    "collapsed": false
   },
   "outputs": [
    {
     "name": "stdout",
     "output_type": "stream",
     "text": [
      "[[33]]\n"
     ]
    }
   ],
   "source": [
    "c = numpy.matrix([4,2,5])\n",
    "d = numpy.matrix([3,3,3]).T #.Tはその行列の転置\n",
    "print(c * d) # 転置を取らないとベクトルの内積は取れないことに注意"
   ]
  },
  {
   "cell_type": "markdown",
   "metadata": {},
   "source": [
    "# arrayの作り方"
   ]
  },
  {
   "cell_type": "code",
   "execution_count": 41,
   "metadata": {
    "collapsed": false
   },
   "outputs": [
    {
     "data": {
      "text/plain": [
       "array([3, 5, 3])"
      ]
     },
     "execution_count": 41,
     "metadata": {},
     "output_type": "execute_result"
    }
   ],
   "source": [
    "numpy.array([3,5,3]) #array()関数の引数に配列を入れる。[3,3]や[[3,4],[2,1]] など"
   ]
  },
  {
   "cell_type": "code",
   "execution_count": 42,
   "metadata": {
    "collapsed": false
   },
   "outputs": [
    {
     "data": {
      "text/plain": [
       "array([ 1. ,  1.5,  2. ,  2.5,  3. ,  3.5,  4. ,  4.5])"
      ]
     },
     "execution_count": 42,
     "metadata": {},
     "output_type": "execute_result"
    }
   ],
   "source": [
    "numpy.arange(1,5,0.5) #等差数列が作れる1 arrange(始点,終点,増分) 出てくる数列は終点未満まで"
   ]
  },
  {
   "cell_type": "code",
   "execution_count": 52,
   "metadata": {
    "collapsed": false
   },
   "outputs": [
    {
     "data": {
      "text/plain": [
       "array([ 3.        ,  3.16666667,  3.33333333,  3.5       ,  3.66666667,\n",
       "        3.83333333,  4.        ])"
      ]
     },
     "execution_count": 52,
     "metadata": {},
     "output_type": "execute_result"
    }
   ],
   "source": [
    "numpy.linspace(3,4,7) #等差数列が作れる2 linspace(始点,終点,分割数) 出てくる数列は終点含む"
   ]
  },
  {
   "cell_type": "code",
   "execution_count": 56,
   "metadata": {
    "collapsed": false
   },
   "outputs": [
    {
     "data": {
      "text/plain": [
       "array([[ 0.,  0.,  0.],\n",
       "       [ 0.,  0.,  0.]])"
      ]
     },
     "execution_count": 56,
     "metadata": {},
     "output_type": "execute_result"
    }
   ],
   "source": [
    "numpy.zeros((2,3)) #すべての要素が0 zeros()の引数にはデータのサイズを 1次元でいいならzeros(2)とかでもいい"
   ]
  },
  {
   "cell_type": "code",
   "execution_count": 60,
   "metadata": {
    "collapsed": false
   },
   "outputs": [
    {
     "data": {
      "text/plain": [
       "array([[[ 1.,  1.,  1.],\n",
       "        [ 1.,  1.,  1.]],\n",
       "\n",
       "       [[ 1.,  1.,  1.],\n",
       "        [ 1.,  1.,  1.]]])"
      ]
     },
     "execution_count": 60,
     "metadata": {},
     "output_type": "execute_result"
    }
   ],
   "source": [
    "numpy.ones((2,2,3)) #すべての要素が1"
   ]
  },
  {
   "cell_type": "code",
   "execution_count": null,
   "metadata": {
    "collapsed": true
   },
   "outputs": [],
   "source": []
  }
 ],
 "metadata": {
  "kernelspec": {
   "display_name": "Python 3",
   "language": "python",
   "name": "python3"
  },
  "language_info": {
   "codemirror_mode": {
    "name": "ipython",
    "version": 3
   },
   "file_extension": ".py",
   "mimetype": "text/x-python",
   "name": "python",
   "nbconvert_exporter": "python",
   "pygments_lexer": "ipython3",
   "version": "3.5.1"
  }
 },
 "nbformat": 4,
 "nbformat_minor": 0
}
