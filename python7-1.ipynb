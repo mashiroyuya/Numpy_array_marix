{
 "cells": [
  {
   "cell_type": "markdown",
   "metadata": {},
   "source": [
    "# 7月 1日 Python会\n"
   ]
  },
  {
   "cell_type": "markdown",
   "metadata": {},
   "source": [
    "## 1.Pythonはタブでブロック{}を表現する\n",
    "\n",
    "PythonはC言語でいうブロック{}がないので\n",
    "タブでブロックを表現します。\n",
    "\n",
    "C言語だと\n",
    "```C\n",
    "if(a == 1){\n",
    "printf(\"a = 1 です\\n\");\n",
    "}\n",
    "```\n",
    "Pythonの方には{}がない代わりにタブ(空白)でif文の中の処理ですよってことを表す。\n"
   ]
  },
  {
   "cell_type": "code",
   "execution_count": 24,
   "metadata": {
    "collapsed": false
   },
   "outputs": [
    {
     "name": "stdout",
     "output_type": "stream",
     "text": [
      "a = 1です\n"
     ]
    }
   ],
   "source": [
    "if a == 1:\n",
    "    print('a = 1です')"
   ]
  },
  {
   "cell_type": "markdown",
   "metadata": {},
   "source": [
    "### 1.1 if文の例 タブでifの中かどうかをPythonは判断してる\n",
    "以下のコードを実行してみると何が表示されるか"
   ]
  },
  {
   "cell_type": "code",
   "execution_count": 30,
   "metadata": {
    "collapsed": false
   },
   "outputs": [
    {
     "name": "stdout",
     "output_type": "stream",
     "text": [
      "out ifの外の処理です\n"
     ]
    }
   ],
   "source": [
    "x = 10\n",
    "if x == 0:\n",
    "    print('in ifの中の処理です') #ifの中なので表示されない\n",
    "    print('ここもifです') #ここもifの中なので実行されない\n",
    "print('out ifの外の処理です') #ここはifの外なので実行される"
   ]
  },
  {
   "cell_type": "markdown",
   "metadata": {},
   "source": [
    "上のコードは\n",
    "\n",
    "> out ifの外の処理です\n",
    "\n",
    "って表示される。"
   ]
  },
  {
   "cell_type": "markdown",
   "metadata": {},
   "source": [
    "## 2.データの読み込み\n",
    "``` Python\n",
    "numpy.loadtxt(ファイル名,dtype=数値のタイプ,usecols = (列番号,列番号,列番号),skiprows = 行数,comments = `#`)\n",
    "```\n",
    "### 2.2 loadtextの引数について\n",
    "* 第一引数はファイル名を。他のディレクトリにあっても良い。例 \"../test.dat\" 上のディレクトリにあるtest.datを読み込む\n",
    "* dtypeには数値のタイプを float:浮動点小数 integer:整数\n",
    "* usecolsの引数には欲しいデータの列番号を入れる。\n",
    "* skiprows = 行数 この行にデータの読み込みの頭の行ををスキップ\n",
    "\n",
    "### 2.3 ptdata.shape\n",
    "shapeはその配列(データ)のサイズを出してくれる\n",
    "> array.shape  \n",
    "> ↓ output  \n",
    "> (行数,列数)\n",
    "\n",
    "### 2.4 コードの例 ↓"
   ]
  },
  {
   "cell_type": "code",
   "execution_count": 38,
   "metadata": {
    "collapsed": false
   },
   "outputs": [
    {
     "name": "stdout",
     "output_type": "stream",
     "text": [
      "(152, 2)\n"
     ]
    }
   ],
   "source": [
    "ptdata = np.loadtxt('Pt.dat',dtype='float',usecols = (0,1),comments ='#')\n",
    "print(ptdata.shape)"
   ]
  },
  {
   "cell_type": "markdown",
   "metadata": {},
   "source": [
    "## 3 グラフの表示\n",
    "\n",
    "### 3.1 グラフの表示の手順 \n",
    "1. matplotlib.pyplot.figure関数でFigureオブジェクト\n",
    "2. Figureオブジェクトのメソッド(.add_subplot, .add_axes)でAxesオブジェクトを作る。\n",
    "3. Axesオブジェクトのメソッド(.plot, .imshowなど)にデータを渡しプロットをする。\n",
    "4. 必要ならば、Axesオブジェクトのメソッド(.set_ylimなど)でプロットを調節する。\n",
    "\n",
    "コードの説明は下に\n",
    "### 3.2 コード ↓"
   ]
  },
  {
   "cell_type": "code",
   "execution_count": 55,
   "metadata": {
    "collapsed": false
   },
   "outputs": [
    {
     "data": {
      "text/plain": [
       "[<matplotlib.lines.Line2D at 0x10df86a90>]"
      ]
     },
     "execution_count": 55,
     "metadata": {},
     "output_type": "execute_result"
    },
    {
     "data": {
      "image/png": "[encoded data removed]",
      "text/plain": [
       "<matplotlib.figure.Figure at 0x10dca3860>"
      ]
     },
     "metadata": {},
     "output_type": "display_data"
    }
   ],
   "source": [
    "%matplotlib inline\n",
    "import matplotlib.pyplot as plt\n",
    "plt.xkcd() #手書きっぽくグラフを表示する\n",
    "\n",
    "fig = plt.figure(figsize = plt.figaspect((0.618)*1.0))\n",
    "ax = fig.add_subplot(1,1,1)\n",
    "ax.plot(ptdata[:,0],ptdata[:,1])\n",
    "\n",
    "#plt.savefig('manga.png',dpi=150)"
   ]
  },
  {
   "cell_type": "markdown",
   "metadata": {},
   "source": [
    "\n",
    "\n",
    "#### 3.2.1 初めてのmatplotlib\n",
    "* magic function\n",
    "```Python\n",
    "%matplotlib inline\n",
    "```\n",
    "はnotebook内での画像の表示をするコマンド  \n",
    "%から始まるコマンドはmagic functionっていうみたい \n",
    "\n",
    "* import\n",
    "```Python\n",
    "import matplotlib.pyplot as plt\n",
    "```\n",
    "こんな感じでmatplotlibをインポート\n",
    "\n",
    "* figure 描画スペースを作る\n",
    "```Python\n",
    "fig = plt.figure(figsize = plt.figaspect((0.618)*1.0))\n",
    "```\n",
    "figureは空白のグラフ描画スペースを作りだす。\n",
    "\n",
    "* add_subplot\n",
    "```Python\n",
    "add_subplot(1,1,1)\n",
    "```\n",
    "グラフを作ったスペース(ここではfig)に追加する。  \n",
    "``add_subplot(行数,列数,何番目)``  \n",
    "スペースfigを行数列数で分割してそのマスの何番目に配置するかを決める。 \n",
    "例  \n",
    "add_subplot(1,1,1) は1×1分割の1番目だからスペースいっぱいに配置  \n",
    "add_subplot(2,2,2) は2×2分割の2番目に配置(グラフはスペースの1/4サイズになる)。\n",
    "いろいろやってみるといいかもしれない。\n",
    "\n",
    "#### 3.2.2 .plot() データのセット\n",
    "```python\n",
    "ax.plot(ptdata[:,0],ptdata[:,1])\n",
    "```\n",
    ".plot(x軸データ,y軸データ)\n",
    "データは配列で一気に入れよう。\n",
    "ptdata[:,0]\n",
    "は0列目のすべてという意味。  \n",
    "ptdataは152行2列の行列だが、ptdata[:,0]で0列目にある152個の数値を配列にしてx軸データとして格納している。\n",
    "\n",
    "#### 3.2.3 画像の保存\n",
    "```python\n",
    "plt.savefig(ファイル名,dpi = 数値)\n",
    "```\n",
    "* dpi は解像度 多分指定しなくてもいい\n"
   ]
  },
  {
   "cell_type": "code",
   "execution_count": null,
   "metadata": {
    "collapsed": true
   },
   "outputs": [],
   "source": []
  }
 ],
 "metadata": {
  "kernelspec": {
   "display_name": "Python 3",
   "language": "python",
   "name": "python3"
  },
  "language_info": {
   "codemirror_mode": {
    "name": "ipython",
    "version": 3
   },
   "file_extension": ".py",
   "mimetype": "text/x-python",
   "name": "python",
   "nbconvert_exporter": "python",
   "pygments_lexer": "ipython3",
   "version": "3.5.1"
  }
 },
 "nbformat": 4,
 "nbformat_minor": 0
}
